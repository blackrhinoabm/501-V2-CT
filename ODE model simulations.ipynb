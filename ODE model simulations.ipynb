{
 "cells": [
  {
   "cell_type": "code",
   "execution_count": 84,
   "metadata": {},
   "outputs": [],
   "source": [
    "%matplotlib inline\n",
    "\n",
    "import matplotlib.pyplot as plt\n",
    "import pandas as pd\n",
    "import json\n",
    "import numpy as np\n",
    "import os\n",
    "import scipy\n",
    "import logging\n",
    "from scipy.integrate import odeint\n",
    "#from sabcom.differential_equation_model import differential_equations_model\n",
    "from sabcom.estimation import constrNM, confidence_interval"
   ]
  },
  {
   "cell_type": "code",
   "execution_count": 89,
   "metadata": {},
   "outputs": [],
   "source": [
    "def differential_equations_model(compartments, t, transmissibility, contact_probability_matrix,\n",
    "                                 exit_rate_exposed, exit_rate_asymptomatic,\n",
    "                                 exit_rate_symptomatic, exit_rate_critical,\n",
    "                                 probability_symptomatic, probability_critical, probability_to_die, hospital_capacity,\n",
    "                                 google_contact_rate):\n",
    "    # reshape 63 element vector Z into [7 x 9] matrix\n",
    "    compartments = compartments.reshape(7, -1)\n",
    "\n",
    "    # assign rows to disease compartments\n",
    "    susceptible, exposed, asymptomatic, symptomatic, critical, recovered, dead = compartments\n",
    "\n",
    "    health_overburdened_multiplier = 1\n",
    "\n",
    "    # health system can be overburdened which will increase the probability of death\n",
    "    if critical.sum() > hospital_capacity:\n",
    "        health_overburdened_multiplier = 1.79 #TODO add this as a parameter\n",
    "        probability_to_die = np.minimum(health_overburdened_multiplier * probability_to_die, np.ones(9))\n",
    "        # print(t)\n",
    "\n",
    "    multiplier = google_contact_rate[int(t)] ** 2\n",
    "\n",
    "    # construct differential equation evolution equations\n",
    "    delta_susceptible = -transmissibility * multiplier * susceptible * contact_probability_matrix.dot((asymptomatic + symptomatic))\n",
    "    delta_exposed = transmissibility * multiplier * susceptible * contact_probability_matrix.dot((\n",
    "            asymptomatic + symptomatic)) - exit_rate_exposed * exposed\n",
    "    delta_asymptomatic = (1 - probability_symptomatic\n",
    "                          ) * exit_rate_exposed * exposed - exit_rate_asymptomatic * asymptomatic\n",
    "    delta_symptomatic = probability_symptomatic * exit_rate_exposed * exposed - exit_rate_symptomatic * symptomatic\n",
    "    delta_critical = probability_critical * exit_rate_symptomatic * symptomatic - exit_rate_critical * critical\n",
    "    delta_recovered = exit_rate_asymptomatic * asymptomatic + (\n",
    "            1 - probability_critical) * exit_rate_symptomatic * symptomatic + (1 - probability_to_die\n",
    "                                                                               ) * exit_rate_critical * critical\n",
    "    delta_dead = probability_to_die * exit_rate_critical * critical\n",
    "\n",
    "    # store differentials as 63 element vector\n",
    "    delta_compartments = np.concatenate((delta_susceptible, delta_exposed, delta_asymptomatic,\n",
    "                                         delta_symptomatic, delta_critical, delta_recovered, delta_dead), axis=0)\n",
    "\n",
    "    return delta_compartments\n"
   ]
  },
  {
   "cell_type": "markdown",
   "metadata": {},
   "source": [
    "# ODE model simulations"
   ]
  },
  {
   "cell_type": "code",
   "execution_count": 96,
   "metadata": {},
   "outputs": [],
   "source": [
    "def demodel(**kwargs):\n",
    "    input_folder_path = kwargs.get('input_folder_path')\n",
    "    output_folder_path = kwargs.get('output_folder_path')\n",
    "\n",
    "    parameters_path = os.path.join(input_folder_path, 'first_strainparameters.json')\n",
    "    \n",
    "    with open(parameters_path) as json_file:\n",
    "        parameters = json.load(json_file)\n",
    "        for param in parameters:\n",
    "            logging.debug('Parameter {} is {}'.format(param, parameters[param]))\n",
    "\n",
    "    # CONTACT Rate\n",
    "    contact_rate = [x / 100 for x in parameters[\"stringency_index\"]]\n",
    "    print(contact_rate)\n",
    "    \n",
    "    # arguments = city\n",
    "    initial_infected = parameters['total_initial_infections']\n",
    "    T = len(parameters['empirical_fatalities']) # for estimation\n",
    "\n",
    "    # Set Covid-19 Parameters:\n",
    "    # basic reproduction number\n",
    "    #r_zero = kwargs.get('r_zero') #initial_recovered\n",
    "    exposed_days = float(parameters[\"exposed_days\"])\n",
    "    asymptomatic_days = float(parameters[\"asymptom_days\"])\n",
    "    symptomatic_days = float(parameters[\"symptom_days\"])\n",
    "    critical_days = float(parameters[\"critical_days\"])\n",
    "\n",
    "    # compartment exit rates\n",
    "    exit_rate_exposed = 1.0 / exposed_days\n",
    "    exit_rate_asymptomatic = 1.0 / asymptomatic_days\n",
    "    exit_rate_symptomatic = 1.0 / symptomatic_days\n",
    "    exit_rate_critical = 1.0 / critical_days\n",
    "\n",
    "    probability_symptomatic = parameters[\"probability_symptomatic\"]\n",
    "    # Probability to become critically ill if symptomatic (source: Verity et al.2020)\n",
    "    probability_critical = np.array([x for x in parameters[\"probability_critical\"].values()])\n",
    "    # Probability to die if critically ill (source: Silal et al.2020)\n",
    "    probability_to_die = np.array([x for x in parameters[\"probability_critical\"].values()])\n",
    "\n",
    "    # Total population:\n",
    "    district_population = pd.read_csv(os.path.join(input_folder_path, 'f_population.csv'), index_col=0)\n",
    "    district_population = district_population.values\n",
    "    population = parameters[\"empirical_population\"] #district_population.sum()  # sum over wards to obtain city population\n",
    "\n",
    "    # Set city specific parameters\n",
    "    hospital_capacity = int(round(parameters[\"health_system_capacity\"] * population))\n",
    "\n",
    "    # Population by age group (N_age(i) is the population of age group i)\n",
    "    ward_age_distribution = pd.read_csv(os.path.join(input_folder_path, 'f_age_distribution.csv'),\n",
    "                                        index_col=0)  # the datafile contains ward level fractions in each age group\n",
    "    N_age = ward_age_distribution * district_population  # convert to number of people in age group per ward\n",
    "    N_age = N_age.sum()  # sum over wards\n",
    "    N_age = N_age.values  # store city level population sizes of each age group\n",
    "\n",
    "    # Load raw contact matrices\n",
    "    household_contacts = pd.read_csv(os.path.join(input_folder_path, 'f_household_contacts.csv'), index_col=0)\n",
    "    other_contacts = pd.read_csv(os.path.join(input_folder_path, 'f_nonhousehold_contacts.csv'), index_col=0)\n",
    "    contact_matrix = household_contacts + other_contacts\n",
    "    contact_matrix = contact_matrix.values\n",
    "\n",
    "    # Replicate last row and column to change the 8 category contact matrix to a 9 category matrix\n",
    "    contact_matrix = np.vstack((contact_matrix, contact_matrix[7, 0:8]))\n",
    "    C_last_column = contact_matrix[0:9, 7]\n",
    "    C_last_column.shape = (9, 1)\n",
    "    contact_matrix = np.hstack((contact_matrix, C_last_column))\n",
    "\n",
    "    # Apply reciprocity correction (see Towers and Feng (2012))\n",
    "    # C_corrected(j,k) = (C(j,k)*N(j) + C(k,j)*N(k))/(2*N(j))\n",
    "    for j in range(contact_matrix.shape[0]):\n",
    "        for k in range(contact_matrix.shape[0]):\n",
    "            contact_matrix[j, k] = (contact_matrix[j, k] * N_age[j] + contact_matrix[k, j] * N_age[k]) / (2 * N_age[j])\n",
    "\n",
    "    # Scale contact matrix by population size\n",
    "    # - each column is normalized by the population of that age group: X(i,j)=C(i,j)/N_age(j)\n",
    "    N_age_row_vector = np.array(N_age)\n",
    "    N_age_row_vector.shape = (1, 9)\n",
    "    contact_probability_matrix = np.divide(contact_matrix, # TODO add here a reduction??? \n",
    "                                           N_age_row_vector)  # X(i,j)=C(i,j)/N_age(j) - entries now measure fraction of each age group contacted on average per day\n",
    "\n",
    "    # Compute infection_rate from R0, exit_rate_asymptomatic, e_S and dominant eigenvalue of matrix X(i,j)*N_age(i)\n",
    "    N_age_column_vector = np.array(N_age)\n",
    "    N_age_column_vector.shape = (9, 1)\n",
    "    #try:\n",
    "    eigen_values, eigen_vectors = np.linalg.eig(np.multiply(contact_probability_matrix, N_age_column_vector))\n",
    "    #except:\n",
    "    #    print(np.multiply(contact_probability_matrix, N_age_column_vector))\n",
    "    dom_eig_val = max(eigen_values)\n",
    "    \n",
    "    # TODO CAN WE CHANGE R_ZERO TO ... \n",
    "    #transmissibility = (((1 - probability_symptomatic) * exit_rate_asymptomatic + probability_symptomatic * exit_rate_symptomatic) * r_zero) / dom_eig_val\n",
    "    transmissibility = kwargs.get('transmissibility') #initial_recovered\n",
    "    \n",
    "    # Set initial conditions\n",
    "    # spread initial infections (exposed individuals) across age groups equally\n",
    "    initial_exposed = (initial_infected / 9) * np.ones(9)\n",
    "    # compute remaining initial populations in susceptible compartments\n",
    "    initial_susceptible = N_age - initial_exposed\n",
    "    # initiallise other compartments at zero\n",
    "    initial_asymptomatic = np.zeros(9)\n",
    "    initial_symptomatic = np.zeros(9)\n",
    "    initial_critical = np.zeros(9)\n",
    "    initial_recovered = np.zeros(9)\n",
    "    initial_dead = np.zeros(9)\n",
    "\n",
    "    # Solve model over time from initial conditions, using ODE solver from scipy:\n",
    "    time_points = [x for x in range(T)]#np.linspace(0, T-1, T-1)  # Grid of time points (in days)\n",
    "    initial_compartments = np.concatenate((initial_susceptible, initial_exposed, initial_asymptomatic,\n",
    "                                           initial_symptomatic, initial_critical, initial_recovered, initial_dead),\n",
    "                                          axis=0)\n",
    "\n",
    "    # Integrate the differential equations over the time grid, t.   # TODO here ... \n",
    "    integrals = odeint(differential_equations_model, initial_compartments, time_points, args=(\n",
    "        transmissibility, contact_probability_matrix, exit_rate_exposed, exit_rate_asymptomatic, exit_rate_symptomatic,\n",
    "        exit_rate_critical, probability_symptomatic, probability_critical, probability_to_die, hospital_capacity, contact_rate))\n",
    "\n",
    "    # integrals is T by 63, needs to be split in compartments, each disease compartments has 9 age groups\n",
    "    susceptible = integrals[:, 0:9].sum(axis=1)\n",
    "    exposed = integrals[:, 9:18].sum(axis=1)\n",
    "    asymptomatic = integrals[:, 18:27].sum(axis=1)\n",
    "    symptomatic = integrals[:, 27:36].sum(axis=1)\n",
    "    critical = integrals[:, 36:45].sum(axis=1)\n",
    "    recovered = integrals[:, 45:54].sum(axis=1)\n",
    "    dead = integrals[:, 54:63].sum(axis=1)\n",
    "\n",
    "    infected = exposed + asymptomatic + symptomatic + critical + dead + recovered\n",
    "    active_infections = exposed + asymptomatic + symptomatic + critical\n",
    "    infectious_infections = asymptomatic + symptomatic\n",
    "\n",
    "    return round(recovered[T-2]), dead, infectious_infections #round(dead[T - 1])"
   ]
  },
  {
   "cell_type": "code",
   "execution_count": 73,
   "metadata": {},
   "outputs": [],
   "source": [
    "parameters_path = os.path.join('cape_town', 'first_strainparameters.json')\n",
    "    \n",
    "with open(parameters_path) as json_file:\n",
    "    parameters = json.load(json_file)\n",
    "    for param in parameters:\n",
    "        logging.debug('Parameter {} is {}'.format(param, parameters[param]))"
   ]
  },
  {
   "cell_type": "code",
   "execution_count": 100,
   "metadata": {},
   "outputs": [
    {
     "name": "stdout",
     "output_type": "stream",
     "text": [
      "[0.446, 0.51, 0.518, 0.522, 0.52, 0.504, 0.484, 0.49200000000000005, 0.502, 0.506, 0.51, 0.526, 0.534, 0.514, 0.46799999999999997, 0.526, 0.534, 0.5579999999999999, 0.5579999999999999, 0.534, 0.594, 0.556, 0.602, 0.6, 0.618, 0.616, 0.604, 0.62, 0.58, 0.586, 0.5920000000000001, 0.6, 0.598, 0.596, 0.614, 0.5820000000000001, 0.5920000000000001, 0.594, 0.612, 0.606, 0.608, 0.626, 0.5920000000000001, 0.5720000000000001, 0.598, 0.63, 0.616, 0.63, 0.674, 0.65, 0.706, 0.682, 0.696, 0.718, 0.69, 0.728, 0.698, 0.688, 0.688, 0.632, 0.6459999999999999, 0.674, 0.716, 0.6679999999999999, 0.706, 0.6779999999999999, 0.72, 0.72, 0.6940000000000001, 0.736, 0.648, 0.6759999999999999, 0.6920000000000001, 0.7120000000000001, 0.722, 0.6940000000000001, 0.67, 0.706, 0.684, 0.736, 0.752, 0.732, 0.7440000000000001, 0.778, 0.708, 0.722, 0.722, 0.754, 0.6659999999999999, 0.642, 0.706, 0.716, 0.624, 0.662, 0.72, 0.728, 0.726, 0.76, 0.7440000000000001, 0.698, 0.696, 0.7140000000000001, 0.718, 0.74, 0.8, 0.732, 0.7, 0.71, 0.736, 0.74, 0.758, 0.8059999999999999, 0.802, 0.728, 0.7020000000000001, 0.748, 0.746, 0.774, 0.8, 0.654, 0.696, 0.6920000000000001, 0.708, 0.742, 0.746, 0.7240000000000001, 0.7020000000000001, 0.684, 0.7140000000000001, 0.748, 0.718, 0.7440000000000001, 0.802, 0.752, 0.7140000000000001, 0.7440000000000001, 0.768, 0.79, 0.726, 0.752, 0.768, 0.728, 0.764, 0.722, 0.7979999999999999, 0.7759999999999999, 0.7659999999999999, 0.792, 0.78, 0.7979999999999999, 0.7879999999999999]\n"
     ]
    }
   ],
   "source": [
    "total_recovered, dead, infectious_agents = demodel(transmissibility=0.51, input_folder_path='cape_town', output_folder_path='output_data/cape_town')"
   ]
  },
  {
   "cell_type": "code",
   "execution_count": 101,
   "metadata": {},
   "outputs": [
    {
     "data": {
      "text/plain": [
       "<matplotlib.axes._subplots.AxesSubplot at 0x2337d3059b0>"
      ]
     },
     "execution_count": 101,
     "metadata": {},
     "output_type": "execute_result"
    },
    {
     "data": {
      "image/png": "[encoded data removed]",
      "text/plain": [
       "<Figure size 432x288 with 1 Axes>"
      ]
     },
     "metadata": {
      "needs_background": "light"
     },
     "output_type": "display_data"
    }
   ],
   "source": [
    "pd.Series(infectious_agents).plot()"
   ]
  },
  {
   "cell_type": "code",
   "execution_count": null,
   "metadata": {},
   "outputs": [],
   "source": []
  }
 ],
 "metadata": {
  "kernelspec": {
   "display_name": "Python 3",
   "language": "python",
   "name": "python3"
  },
  "language_info": {
   "codemirror_mode": {
    "name": "ipython",
    "version": 3
   },
   "file_extension": ".py",
   "mimetype": "text/x-python",
   "name": "python",
   "nbconvert_exporter": "python",
   "pygments_lexer": "ipython3",
   "version": "3.6.8"
  }
 },
 "nbformat": 4,
 "nbformat_minor": 2
}
