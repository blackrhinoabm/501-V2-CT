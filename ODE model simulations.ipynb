{
 "cells": [
  {
   "cell_type": "code",
   "execution_count": 1,
   "metadata": {},
   "outputs": [],
   "source": [
    "%matplotlib inline\n",
    "\n",
    "import matplotlib.pyplot as plt\n",
    "import pandas as pd\n",
    "import json\n",
    "import numpy as np\n",
    "import os\n",
    "import logging\n",
    "from scipy.integrate import odeint\n",
    "from sabcom.differential_equation_model import differential_equations_model\n",
    "from sabcom.estimation import constrNM, confidence_interval"
   ]
  },
  {
   "cell_type": "markdown",
   "metadata": {},
   "source": [
    "# ODE model simulations"
   ]
  },
  {
   "cell_type": "code",
   "execution_count": null,
   "metadata": {},
   "outputs": [],
   "source": []
  },
  {
   "cell_type": "code",
   "execution_count": 7,
   "metadata": {},
   "outputs": [],
   "source": [
    "def demodel(**kwargs):\n",
    "    input_folder_path = kwargs.get('input_folder_path')\n",
    "    output_folder_path = kwargs.get('output_folder_path')\n",
    "\n",
    "    parameters_path = os.path.join(input_folder_path, 'first_strainparameters.json')\n",
    "    \n",
    "    with open(parameters_path) as json_file:\n",
    "        parameters = json.load(json_file)\n",
    "        for param in parameters:\n",
    "            logging.debug('Parameter {} is {}'.format(param, parameters[param]))\n",
    "\n",
    "    # arguments = city\n",
    "    initial_infected = parameters['total_initial_infections']\n",
    "    T = len(parameters['empirical_fatalities']) # for estimation\n",
    "\n",
    "    # Set Covid-19 Parameters:\n",
    "    # basic reproduction number\n",
    "    r_zero = kwargs.get('r_zero') #initial_recovered\n",
    "    exposed_days = float(parameters[\"exposed_days\"])\n",
    "    asymptomatic_days = float(parameters[\"asymptom_days\"])\n",
    "    symptomatic_days = float(parameters[\"symptom_days\"])\n",
    "    critical_days = float(parameters[\"critical_days\"])\n",
    "\n",
    "    # compartment exit rates\n",
    "    exit_rate_exposed = 1.0 / exposed_days\n",
    "    exit_rate_asymptomatic = 1.0 / asymptomatic_days\n",
    "    exit_rate_symptomatic = 1.0 / symptomatic_days\n",
    "    exit_rate_critical = 1.0 / critical_days\n",
    "\n",
    "    probability_symptomatic = parameters[\"probability_symptomatic\"]\n",
    "    # Probability to become critically ill if symptomatic (source: Verity et al.2020)\n",
    "    probability_critical = np.array([x for x in parameters[\"probability_critical\"].values()])\n",
    "    # Probability to die if critically ill (source: Silal et al.2020)\n",
    "    probability_to_die = np.array([x for x in parameters[\"probability_critical\"].values()])\n",
    "\n",
    "    # Total population:\n",
    "    district_population = pd.read_csv(os.path.join(input_folder_path, 'f_population.csv'), index_col=0)\n",
    "    district_population = district_population.values\n",
    "    population = parameters[\"empirical_population\"] #district_population.sum()  # sum over wards to obtain city population\n",
    "\n",
    "    # Set city specific parameters\n",
    "    hospital_capacity = int(round(parameters[\"health_system_capacity\"] * population))\n",
    "\n",
    "    # Population by age group (N_age(i) is the population of age group i)\n",
    "    ward_age_distribution = pd.read_csv(os.path.join(input_folder_path, 'f_age_distribution.csv'),\n",
    "                                        index_col=0)  # the datafile contains ward level fractions in each age group\n",
    "    N_age = ward_age_distribution * district_population  # convert to number of people in age group per ward\n",
    "    N_age = N_age.sum()  # sum over wards\n",
    "    N_age = N_age.values  # store city level population sizes of each age group\n",
    "\n",
    "    # Load raw contact matrices\n",
    "    household_contacts = pd.read_csv(os.path.join(input_folder_path, 'f_household_contacts.csv'), index_col=0)\n",
    "    other_contacts = pd.read_csv(os.path.join(input_folder_path, 'f_nonhousehold_contacts.csv'), index_col=0)\n",
    "    contact_matrix = household_contacts + other_contacts\n",
    "    contact_matrix = contact_matrix.values\n",
    "\n",
    "    # Replicate last row and column to change the 8 category contact matrix to a 9 category matrix\n",
    "    contact_matrix = np.vstack((contact_matrix, contact_matrix[7, 0:8]))\n",
    "    C_last_column = contact_matrix[0:9, 7]\n",
    "    C_last_column.shape = (9, 1)\n",
    "    contact_matrix = np.hstack((contact_matrix, C_last_column))\n",
    "\n",
    "    # Apply reciprocity correction (see Towers and Feng (2012))\n",
    "    # C_corrected(j,k) = (C(j,k)*N(j) + C(k,j)*N(k))/(2*N(j))\n",
    "    for j in range(contact_matrix.shape[0]):\n",
    "        for k in range(contact_matrix.shape[0]):\n",
    "            contact_matrix[j, k] = (contact_matrix[j, k] * N_age[j] + contact_matrix[k, j] * N_age[k]) / (2 * N_age[j])\n",
    "\n",
    "    # Scale contact matrix by population size\n",
    "    # - each column is normalized by the population of that age group: X(i,j)=C(i,j)/N_age(j)\n",
    "    N_age_row_vector = np.array(N_age)\n",
    "    N_age_row_vector.shape = (1, 9)\n",
    "    contact_probability_matrix = np.divide(contact_matrix,\n",
    "                                           N_age_row_vector)  # X(i,j)=C(i,j)/N_age(j) - entries now measure fraction of each age group contacted on average per day\n",
    "\n",
    "    # Compute infection_rate from R0, exit_rate_asymptomatic, e_S and dominant eigenvalue of matrix X(i,j)*N_age(i)\n",
    "    N_age_column_vector = np.array(N_age)\n",
    "    N_age_column_vector.shape = (9, 1)\n",
    "    eigen_values, eigen_vectors = np.linalg.eig(np.multiply(contact_probability_matrix, N_age_column_vector))\n",
    "    dom_eig_val = max(eigen_values)\n",
    "    \n",
    "    # TODO CAN WE CHANGE R_ZERO TO ... \n",
    "    infection_rate = (((1 - probability_symptomatic) * exit_rate_asymptomatic + probability_symptomatic * exit_rate_symptomatic) * r_zero) / dom_eig_val\n",
    "\n",
    "    # Set initial conditions\n",
    "    # spread initial infections (exposed individuals) across age groups equally\n",
    "    initial_exposed = (initial_infected / 9) * np.ones(9)\n",
    "    # compute remaining initial populations in susceptible compartments\n",
    "    initial_susceptible = N_age - initial_exposed\n",
    "    # initiallise other compartments at zero\n",
    "    initial_asymptomatic = np.zeros(9)\n",
    "    initial_symptomatic = np.zeros(9)\n",
    "    initial_critical = np.zeros(9)\n",
    "    initial_recovered = np.zeros(9)\n",
    "    initial_dead = np.zeros(9)\n",
    "\n",
    "    # Solve model over time from initial conditions, using ODE solver from scipy:\n",
    "    time_points = np.linspace(1, T, T)  # Grid of time points (in days)\n",
    "    initial_compartments = np.concatenate((initial_susceptible, initial_exposed, initial_asymptomatic,\n",
    "                                           initial_symptomatic, initial_critical, initial_recovered, initial_dead),\n",
    "                                          axis=0)\n",
    "\n",
    "    # Integrate the differential equations over the time grid, t.\n",
    "    integrals = odeint(differential_equations_model, initial_compartments, time_points, args=(\n",
    "        infection_rate, contact_probability_matrix, exit_rate_exposed, exit_rate_asymptomatic, exit_rate_symptomatic,\n",
    "        exit_rate_critical, probability_symptomatic, probability_critical, probability_to_die, hospital_capacity))\n",
    "\n",
    "    # integrals is T by 63, needs to be split in compartments, each disease compartments has 9 age groups\n",
    "    susceptible = integrals[:, 0:9].sum(axis=1)\n",
    "    exposed = integrals[:, 9:18].sum(axis=1)\n",
    "    asymptomatic = integrals[:, 18:27].sum(axis=1)\n",
    "    symptomatic = integrals[:, 27:36].sum(axis=1)\n",
    "    critical = integrals[:, 36:45].sum(axis=1)\n",
    "    recovered = integrals[:, 45:54].sum(axis=1)\n",
    "    dead = integrals[:, 54:63].sum(axis=1)\n",
    "\n",
    "    infected = exposed + asymptomatic + symptomatic + critical + dead + recovered\n",
    "    active_infections = exposed + asymptomatic + symptomatic + critical\n",
    "    infectious_infections = asymptomatic + symptomatic\n",
    "\n",
    "    return round(recovered[T - 1]), dead, infectious_infections #round(dead[T - 1])"
   ]
  },
  {
   "cell_type": "code",
   "execution_count": 11,
   "metadata": {},
   "outputs": [
    {
     "ename": "LinAlgError",
     "evalue": "Eigenvalues did not converge",
     "output_type": "error",
     "traceback": [
      "\u001b[1;31m---------------------------------------------------------------------------\u001b[0m",
      "\u001b[1;31mLinAlgError\u001b[0m                               Traceback (most recent call last)",
      "\u001b[1;32m<ipython-input-11-e2a273789066>\u001b[0m in \u001b[0;36m<module>\u001b[1;34m\u001b[0m\n\u001b[1;32m----> 1\u001b[1;33m \u001b[0mtotal_recovered\u001b[0m\u001b[1;33m,\u001b[0m \u001b[0mdead\u001b[0m\u001b[1;33m,\u001b[0m \u001b[0minfectious_agents\u001b[0m \u001b[1;33m=\u001b[0m \u001b[0mdemodel\u001b[0m\u001b[1;33m(\u001b[0m\u001b[0mr_zero\u001b[0m\u001b[1;33m=\u001b[0m\u001b[1;36m1.71\u001b[0m\u001b[1;33m,\u001b[0m \u001b[0minput_folder_path\u001b[0m\u001b[1;33m=\u001b[0m\u001b[1;34m'cape_town'\u001b[0m\u001b[1;33m,\u001b[0m \u001b[0moutput_folder_path\u001b[0m\u001b[1;33m=\u001b[0m\u001b[1;34m'output_data/cape_town'\u001b[0m\u001b[1;33m)\u001b[0m\u001b[1;33m\u001b[0m\u001b[1;33m\u001b[0m\u001b[0m\n\u001b[0m",
      "\u001b[1;32m<ipython-input-7-7a41890c4f96>\u001b[0m in \u001b[0;36mdemodel\u001b[1;34m(**kwargs)\u001b[0m\n\u001b[0;32m     77\u001b[0m     \u001b[0mN_age_column_vector\u001b[0m \u001b[1;33m=\u001b[0m \u001b[0mnp\u001b[0m\u001b[1;33m.\u001b[0m\u001b[0marray\u001b[0m\u001b[1;33m(\u001b[0m\u001b[0mN_age\u001b[0m\u001b[1;33m)\u001b[0m\u001b[1;33m\u001b[0m\u001b[1;33m\u001b[0m\u001b[0m\n\u001b[0;32m     78\u001b[0m     \u001b[0mN_age_column_vector\u001b[0m\u001b[1;33m.\u001b[0m\u001b[0mshape\u001b[0m \u001b[1;33m=\u001b[0m \u001b[1;33m(\u001b[0m\u001b[1;36m9\u001b[0m\u001b[1;33m,\u001b[0m \u001b[1;36m1\u001b[0m\u001b[1;33m)\u001b[0m\u001b[1;33m\u001b[0m\u001b[1;33m\u001b[0m\u001b[0m\n\u001b[1;32m---> 79\u001b[1;33m     \u001b[0meigen_values\u001b[0m\u001b[1;33m,\u001b[0m \u001b[0meigen_vectors\u001b[0m \u001b[1;33m=\u001b[0m \u001b[0mnp\u001b[0m\u001b[1;33m.\u001b[0m\u001b[0mlinalg\u001b[0m\u001b[1;33m.\u001b[0m\u001b[0meig\u001b[0m\u001b[1;33m(\u001b[0m\u001b[0mnp\u001b[0m\u001b[1;33m.\u001b[0m\u001b[0mmultiply\u001b[0m\u001b[1;33m(\u001b[0m\u001b[0mcontact_probability_matrix\u001b[0m\u001b[1;33m,\u001b[0m \u001b[0mN_age_column_vector\u001b[0m\u001b[1;33m)\u001b[0m\u001b[1;33m)\u001b[0m\u001b[1;33m\u001b[0m\u001b[1;33m\u001b[0m\u001b[0m\n\u001b[0m\u001b[0;32m     80\u001b[0m     \u001b[0mdom_eig_val\u001b[0m \u001b[1;33m=\u001b[0m \u001b[0mmax\u001b[0m\u001b[1;33m(\u001b[0m\u001b[0meigen_values\u001b[0m\u001b[1;33m)\u001b[0m\u001b[1;33m\u001b[0m\u001b[1;33m\u001b[0m\u001b[0m\n\u001b[0;32m     81\u001b[0m \u001b[1;33m\u001b[0m\u001b[0m\n",
      "\u001b[1;32mc:\\users\\joerischasfoort\\appdata\\local\\programs\\python\\python36\\lib\\site-packages\\numpy\\linalg\\linalg.py\u001b[0m in \u001b[0;36meig\u001b[1;34m(a)\u001b[0m\n\u001b[0;32m   1309\u001b[0m         _raise_linalgerror_eigenvalues_nonconvergence)\n\u001b[0;32m   1310\u001b[0m     \u001b[0msignature\u001b[0m \u001b[1;33m=\u001b[0m \u001b[1;34m'D->DD'\u001b[0m \u001b[1;32mif\u001b[0m \u001b[0misComplexType\u001b[0m\u001b[1;33m(\u001b[0m\u001b[0mt\u001b[0m\u001b[1;33m)\u001b[0m \u001b[1;32melse\u001b[0m \u001b[1;34m'd->DD'\u001b[0m\u001b[1;33m\u001b[0m\u001b[1;33m\u001b[0m\u001b[0m\n\u001b[1;32m-> 1311\u001b[1;33m     \u001b[0mw\u001b[0m\u001b[1;33m,\u001b[0m \u001b[0mvt\u001b[0m \u001b[1;33m=\u001b[0m \u001b[0m_umath_linalg\u001b[0m\u001b[1;33m.\u001b[0m\u001b[0meig\u001b[0m\u001b[1;33m(\u001b[0m\u001b[0ma\u001b[0m\u001b[1;33m,\u001b[0m \u001b[0msignature\u001b[0m\u001b[1;33m=\u001b[0m\u001b[0msignature\u001b[0m\u001b[1;33m,\u001b[0m \u001b[0mextobj\u001b[0m\u001b[1;33m=\u001b[0m\u001b[0mextobj\u001b[0m\u001b[1;33m)\u001b[0m\u001b[1;33m\u001b[0m\u001b[1;33m\u001b[0m\u001b[0m\n\u001b[0m\u001b[0;32m   1312\u001b[0m \u001b[1;33m\u001b[0m\u001b[0m\n\u001b[0;32m   1313\u001b[0m     \u001b[1;32mif\u001b[0m \u001b[1;32mnot\u001b[0m \u001b[0misComplexType\u001b[0m\u001b[1;33m(\u001b[0m\u001b[0mt\u001b[0m\u001b[1;33m)\u001b[0m \u001b[1;32mand\u001b[0m \u001b[0mall\u001b[0m\u001b[1;33m(\u001b[0m\u001b[0mw\u001b[0m\u001b[1;33m.\u001b[0m\u001b[0mimag\u001b[0m \u001b[1;33m==\u001b[0m \u001b[1;36m0.0\u001b[0m\u001b[1;33m)\u001b[0m\u001b[1;33m:\u001b[0m\u001b[1;33m\u001b[0m\u001b[1;33m\u001b[0m\u001b[0m\n",
      "\u001b[1;32mc:\\users\\joerischasfoort\\appdata\\local\\programs\\python\\python36\\lib\\site-packages\\numpy\\linalg\\linalg.py\u001b[0m in \u001b[0;36m_raise_linalgerror_eigenvalues_nonconvergence\u001b[1;34m(err, flag)\u001b[0m\n\u001b[0;32m    101\u001b[0m \u001b[1;33m\u001b[0m\u001b[0m\n\u001b[0;32m    102\u001b[0m \u001b[1;32mdef\u001b[0m \u001b[0m_raise_linalgerror_eigenvalues_nonconvergence\u001b[0m\u001b[1;33m(\u001b[0m\u001b[0merr\u001b[0m\u001b[1;33m,\u001b[0m \u001b[0mflag\u001b[0m\u001b[1;33m)\u001b[0m\u001b[1;33m:\u001b[0m\u001b[1;33m\u001b[0m\u001b[1;33m\u001b[0m\u001b[0m\n\u001b[1;32m--> 103\u001b[1;33m     \u001b[1;32mraise\u001b[0m \u001b[0mLinAlgError\u001b[0m\u001b[1;33m(\u001b[0m\u001b[1;34m\"Eigenvalues did not converge\"\u001b[0m\u001b[1;33m)\u001b[0m\u001b[1;33m\u001b[0m\u001b[1;33m\u001b[0m\u001b[0m\n\u001b[0m\u001b[0;32m    104\u001b[0m \u001b[1;33m\u001b[0m\u001b[0m\n\u001b[0;32m    105\u001b[0m \u001b[1;32mdef\u001b[0m \u001b[0m_raise_linalgerror_svd_nonconvergence\u001b[0m\u001b[1;33m(\u001b[0m\u001b[0merr\u001b[0m\u001b[1;33m,\u001b[0m \u001b[0mflag\u001b[0m\u001b[1;33m)\u001b[0m\u001b[1;33m:\u001b[0m\u001b[1;33m\u001b[0m\u001b[1;33m\u001b[0m\u001b[0m\n",
      "\u001b[1;31mLinAlgError\u001b[0m: Eigenvalues did not converge"
     ]
    }
   ],
   "source": [
    "total_recovered, dead, infectious_agents = demodel(r_zero=1.71, input_folder_path='cape_town', output_folder_path='output_data/cape_town')"
   ]
  },
  {
   "cell_type": "code",
   "execution_count": 10,
   "metadata": {},
   "outputs": [
    {
     "data": {
      "text/plain": [
       "<matplotlib.axes._subplots.AxesSubplot at 0x1a1906eb4e0>"
      ]
     },
     "execution_count": 10,
     "metadata": {},
     "output_type": "execute_result"
    },
    {
     "data": {
      "image/png": "[encoded data removed]",
      "text/plain": [
       "<Figure size 432x288 with 1 Axes>"
      ]
     },
     "metadata": {
      "needs_background": "light"
     },
     "output_type": "display_data"
    }
   ],
   "source": [
    "pd.Series(infectious_agents).plot()"
   ]
  },
  {
   "cell_type": "code",
   "execution_count": null,
   "metadata": {},
   "outputs": [],
   "source": []
  }
 ],
 "metadata": {
  "kernelspec": {
   "display_name": "Python 3",
   "language": "python",
   "name": "python3"
  },
  "language_info": {
   "codemirror_mode": {
    "name": "ipython",
    "version": 3
   },
   "file_extension": ".py",
   "mimetype": "text/x-python",
   "name": "python",
   "nbconvert_exporter": "python",
   "pygments_lexer": "ipython3",
   "version": "3.6.8"
  }
 },
 "nbformat": 4,
 "nbformat_minor": 2
}
