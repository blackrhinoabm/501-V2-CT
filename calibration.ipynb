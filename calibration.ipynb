{
 "cells": [
  {
   "cell_type": "code",
   "execution_count": 2,
   "metadata": {},
   "outputs": [],
   "source": [
    "%matplotlib inline\n",
    "import pandas as pd\n",
    "import json\n",
    "import numpy as np\n",
    "from datetime import datetime, date, timedelta"
   ]
  },
  {
   "cell_type": "markdown",
   "metadata": {},
   "source": [
    "# Calibration\n",
    "\n",
    "This notebook can be used to set the baseline parameters of the model. It generates the base parameter.json file that is used for all simulations.\n",
    "\n",
    "## 1 Set the general simulation parameters "
   ]
  },
  {
   "cell_type": "code",
   "execution_count": 3,
   "metadata": {},
   "outputs": [],
   "source": [
    "i = 0\n",
    "TIME = 350\n",
    "AGENTS = 100000 \n",
    "CITY = ['cape_town', 'johannesburg'][i]\n",
    "REGION = ['Western Cape', 'Gauteng'][i]\n",
    "POPULATIONS2011 = [3740000, 4435000]\n",
    "POPULATIONS2019 = [4524000, 5635127]"
   ]
  },
  {
   "cell_type": "code",
   "execution_count": 4,
   "metadata": {},
   "outputs": [],
   "source": [
    "#(POPULATIONS2011[1] / AGENTS) * 183"
   ]
  },
  {
   "cell_type": "markdown",
   "metadata": {},
   "source": [
    "## 2 Set the start and end dates for the validation period"
   ]
  },
  {
   "cell_type": "code",
   "execution_count": 5,
   "metadata": {},
   "outputs": [],
   "source": [
    "city_dates = ['2020-04-17', '2020-04-29'] \n",
    "START_DATE = datetime.strptime(city_dates[i], '%Y-%m-%d')\n",
    "END_DATE = datetime.strptime('2020-08-10', '%Y-%m-%d') "
   ]
  },
  {
   "cell_type": "markdown",
   "metadata": {},
   "source": [
    "## 3 Import data\n",
    "\n",
    "### 3.1 Oxford Stringency Index"
   ]
  },
  {
   "cell_type": "code",
   "execution_count": 6,
   "metadata": {},
   "outputs": [],
   "source": [
    "stringency_index = pd.read_csv('general_data/OxCGRT_latest.csv')[pd.read_csv('general_data/OxCGRT_latest.csv')['CountryCode'] == 'ZAF']\n",
    "stringency_index.index = [datetime.strptime(str(x), '%Y%m%d') for x in stringency_index['Date']]\n",
    "stringency_index = stringency_index['StringencyIndex']"
   ]
  },
  {
   "cell_type": "code",
   "execution_count": 7,
   "metadata": {},
   "outputs": [],
   "source": [
    "lockdown_severeness = stringency_index.loc[START_DATE:END_DATE]"
   ]
  },
  {
   "cell_type": "markdown",
   "metadata": {},
   "source": [
    "### 3.2 Google mobility data"
   ]
  },
  {
   "cell_type": "code",
   "execution_count": 8,
   "metadata": {},
   "outputs": [],
   "source": [
    "mobility_data = pd.read_csv('general_data/Global_Mobility_Report_ZA.csv')\n",
    "mobility_data = mobility_data[mobility_data['sub_region_1'] == REGION]\n",
    "mobility_data.index = [datetime.strptime(x, '%Y-%m-%d') for x in mobility_data['date']]\n",
    "mobility_data = mobility_data[mobility_data.columns[9:]].astype(float)"
   ]
  },
  {
   "cell_type": "markdown",
   "metadata": {},
   "source": [
    "### Excess fatalities"
   ]
  },
  {
   "cell_type": "code",
   "execution_count": 9,
   "metadata": {},
   "outputs": [],
   "source": [
    "ef = pd.read_csv('general_data/excess_death_curves.csv')"
   ]
  },
  {
   "cell_type": "code",
   "execution_count": 10,
   "metadata": {},
   "outputs": [],
   "source": [
    "ef_jhn = []\n",
    "ef_ct = []\n",
    "\n",
    "for name, l in zip(['excess_d_ct', 'excess_d_jhn'], [ef_ct, ef_jhn]):\n",
    "    # remove nan value\n",
    "    for x in ef[name].iloc[:117]:\n",
    "        if str(x) != 'nan':\n",
    "            l.append(float(x))\n",
    "        else:\n",
    "            l.append(0.0)"
   ]
  },
  {
   "cell_type": "code",
   "execution_count": 11,
   "metadata": {},
   "outputs": [],
   "source": [
    "excess_fatalities = [ef_ct, ef_jhn]"
   ]
  },
  {
   "cell_type": "markdown",
   "metadata": {},
   "source": [
    "## 3 Set policy parameters for the duration of the simulation.\n",
    "Policy parameters are input as a list that is as long as the simulation. This way they can change over the course of the simulation, in line with observed policy. \n",
    "\n",
    "The travel multiplier is set using the Google mobility data."
   ]
  },
  {
   "cell_type": "code",
   "execution_count": 12,
   "metadata": {},
   "outputs": [],
   "source": [
    "DATE = '2020-03-27'"
   ]
  },
  {
   "cell_type": "code",
   "execution_count": 13,
   "metadata": {},
   "outputs": [
    {
     "data": {
      "text/plain": [
       "0.4066666666666666"
      ]
     },
     "execution_count": 13,
     "metadata": {},
     "output_type": "execute_result"
    }
   ],
   "source": [
    "travel_multiplier = list(1 + mobility_data.mean(axis=1).loc[DATE:DATE] / 100)[0]\n",
    "travel_multiplier"
   ]
  },
  {
   "cell_type": "markdown",
   "metadata": {},
   "source": [
    "## 4 Set initial infections and age groups\n",
    "\n",
    "Next, we assume that 5% of infections were detected at the start of the simulation and translate this to the initial number of cases at the start of the simulation. "
   ]
  },
  {
   "cell_type": "code",
   "execution_count": 14,
   "metadata": {},
   "outputs": [
    {
     "data": {
      "text/plain": [
       "144"
      ]
     },
     "execution_count": 14,
     "metadata": {},
     "output_type": "execute_result"
    }
   ],
   "source": [
    "empirically_estimated_infections = [5371, None]\n",
    "initial_agents = round((empirically_estimated_infections[i] / POPULATIONS2011[i]) * AGENTS)\n",
    "initial_agents"
   ]
  },
  {
   "cell_type": "code",
   "execution_count": 15,
   "metadata": {},
   "outputs": [],
   "source": [
    "# perc_infections_detects = 3\n",
    "# initial_agents = max(round((310 / (POPULATIONS2019[i] / AGENTS) * 100 / perc_infections_detects)), 20) # 310 cases / (population / agent) * 1 / 14% detected cases\n",
    "# initial_agents"
   ]
  },
  {
   "cell_type": "markdown",
   "metadata": {},
   "source": [
    "The age groups are per decile. "
   ]
  },
  {
   "cell_type": "code",
   "execution_count": 16,
   "metadata": {},
   "outputs": [],
   "source": [
    "age_groups = ['age_0_10', 'age_10_20', 'age_20_30', 'age_30_40', 'age_40_50', \n",
    "              'age_50_60', 'age_60_70', 'age_70_80', 'age_80_plus']"
   ]
  },
  {
   "cell_type": "markdown",
   "metadata": {},
   "source": [
    "Health system capacity city "
   ]
  },
  {
   "cell_type": "code",
   "execution_count": 17,
   "metadata": {},
   "outputs": [
    {
     "data": {
      "text/plain": [
       "[0.0009179, 0.0007]"
      ]
     },
     "execution_count": 17,
     "metadata": {},
     "output_type": "execute_result"
    }
   ],
   "source": [
    "beds_joburg = 8750 / 12500000\n",
    "beds_cape_town = 0.0009179\n",
    "health_system_capacities = [beds_cape_town, beds_joburg]\n",
    "health_system_capacities"
   ]
  },
  {
   "cell_type": "markdown",
   "metadata": {},
   "source": [
    "## 5 Create the parameters "
   ]
  },
  {
   "cell_type": "code",
   "execution_count": 18,
   "metadata": {},
   "outputs": [],
   "source": [
    "parameters = {\n",
    "    # Parameters related to model implementation\n",
    "    \"time\": TIME, \n",
    "    \"number_of_agents\": AGENTS,\n",
    "    \n",
    "    # COVID-19 parameters (9)\n",
    "    \"exposed_days\": 4, # (not changed) average number of days before being able to infect others (sources: NICD + CDC)\n",
    "    \"asymptom_days\": 7, # (used to be 10) average number of days agents are infected but do not have symptoms \n",
    "    \"symptom_days\": 7,# (used to be 10) average number of days agents with mild symptoms are infectious (NICD = 7, Balabdaoui and Mohr = 8, Huang et al=7)\n",
    "    \"critical_days\": 11, # (used to be 8) average number of days agents are in critical condition (Balabdaoui and Mohr = 8, NICD=8-19 (13.5), CDC=10-14 (12))\n",
    "    \"probability_symptomatic\": (1 - 0.6165), # (not changed) determines whether an agent will become asymptomatic or asymptomatic spreader\n",
    "    \"no_hospital_multiplier\": 1.79, # the increase in probability if a critical agent cannot go to the hospital SOURCE: Zhou et al. 2020\n",
    "    \"probability_transmission\": 0.01610378740708691, # the probability that the virus is transmitted when two agents interact\n",
    "    \"probability_critical\": {key:value for key, value in zip(age_groups, [0.001, 0.003, 0.012, 0.032, 0.049, 0.102, 0.166, 0.244, 0.273])}, # probability that an agent enters a critical stage of the disease SOURCE: Verity et al.\n",
    "    \"probability_to_die\": {key:value for key, value in zip(age_groups, [0.02090209, 0.032569361, 0.034233668, 0.052638239, 0.097470817, 0.155112718, 0.248512233, 0.306164902, 0.371187541])}, #used to be [0.005, 0.021, 0.053, 0.126, 0.221, 0.303, 0.565, 0.653, 0.765])}, probability to die per age group in critical stage SOURCE: Verity et al.\n",
    "    \n",
    "    # learning parameters\n",
    "    'private_shock_stdev': 0.05,  # the standard deviation for a truncated normal distribution shock that is part of the private signal for the deGroot learning used by the agents. \n",
    "    'weight_private_signal': 1.0,# 0.15,  # the weight of the private signal vis à vis the social signal, used in the deGroot learning process.\n",
    "    \n",
    "    # Cape Town specific parameters (2)\n",
    "    \"health_system_capacity\": health_system_capacities[i],\n",
    "    \"stringency_index\": list(lockdown_severeness),\n",
    "    # Reducing travel e.g. by reducing it for work, school or all\n",
    "    \"visiting_recurring_contacts_multiplier\": travel_multiplier,#[travel_multiplier for x in range(0, TIME)], # based on travel data\n",
    "    \n",
    "    # initial infections\n",
    "    \"total_initial_infections\": initial_agents, # total agents infected in CT\n",
    "    \n",
    "    # optional parameters for second wave\n",
    "    'time_4_new_infections': -1, # -1 is never\n",
    "    'new_infections_scenario': 'None', # determines where the initial infections will be if either initial (infections will pop up in the same place as initially), or random (infections pop up in random districts). Alternatively, this parameter is None and then no second re-seeding will occur. \n",
    "    \n",
    "    # additional parameter used to switch of informal districts\n",
    "    \"informality_dummy\": 1.0, # setting this parameter at 0 will mean the lockdown is equally effective anywhere, alternative = 1\n",
    "    \n",
    "    # Technical parameters\n",
    "    'init_infected_agent': 0, # to calculate R0\n",
    "    \"data_output\": 'csv-light', # 'csv', 'csv-light' or 'network', or 'False'\n",
    "    \n",
    "    # parameters used for comparing to data\n",
    "    'empirical_population': POPULATIONS2011[i],  # specifies the population for the city that is modelled. \n",
    "    'empirical_fatalities': excess_fatalities[i],  # \n",
    "    \n",
    "    # Depreciated paramters (can be used later)\n",
    "    \"probability_susceptible\": 0.000, # probability that the agent will again be susceptible after having recovered\n",
    "}"
   ]
  },
  {
   "cell_type": "markdown",
   "metadata": {},
   "source": [
    "## Next, we store these parameters in a .json file."
   ]
  },
  {
   "cell_type": "code",
   "execution_count": 19,
   "metadata": {},
   "outputs": [],
   "source": [
    "with open('{}/parameters.json'.format(CITY), 'w') as outfile:\n",
    "    json.dump(parameters, outfile)"
   ]
  },
  {
   "cell_type": "code",
   "execution_count": 20,
   "metadata": {},
   "outputs": [],
   "source": [
    "# with open('config_{}.json'.format(CITY), 'w') as outfile:\n",
    "#     json.dump(parameters, outfile)"
   ]
  },
  {
   "cell_type": "code",
   "execution_count": null,
   "metadata": {},
   "outputs": [],
   "source": []
  }
 ],
 "metadata": {
  "kernelspec": {
   "display_name": "Python 3",
   "language": "python",
   "name": "python3"
  },
  "language_info": {
   "codemirror_mode": {
    "name": "ipython",
    "version": 3
   },
   "file_extension": ".py",
   "mimetype": "text/x-python",
   "name": "python",
   "nbconvert_exporter": "python",
   "pygments_lexer": "ipython3",
   "version": "3.6.8"
  }
 },
 "nbformat": 4,
 "nbformat_minor": 2
}
