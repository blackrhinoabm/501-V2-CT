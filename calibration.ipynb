{
 "cells": [
  {
   "cell_type": "code",
   "execution_count": 2,
   "metadata": {},
   "outputs": [],
   "source": [
    "%matplotlib inline\n",
    "import pandas as pd\n",
    "import json\n",
    "import numpy as np\n",
    "from datetime import datetime, date, timedelta"
   ]
  },
  {
   "cell_type": "markdown",
   "metadata": {},
   "source": [
    "# Calibration\n",
    "\n",
    "This notebook can be used to set the baseline parameters of the model. It generates the base parameter.json file that is used for all simulations.\n",
    "\n",
    "## 1 Set the general simulation parameters "
   ]
  },
  {
   "cell_type": "code",
   "execution_count": 3,
   "metadata": {},
   "outputs": [],
   "source": [
    "i = 0\n",
    "TIME = 350\n",
    "AGENTS = 100000 \n",
    "CITY = ['cape_town'][i]\n",
    "REGION = ['Western Cape'][i]\n",
    "POPULATIONS2011 = [3740000]\n",
    "POPULATIONS2019 = [4524000]\n",
    "INITIAL_DAYS = 7 + 11 # i1 / i2 + c"
   ]
  },
  {
   "cell_type": "markdown",
   "metadata": {},
   "source": [
    "##  Google mobility data\n",
    "\n",
    "obtained from https://www.google.com/covid19/mobility/ on the 2nd of January"
   ]
  },
  {
   "cell_type": "code",
   "execution_count": 4,
   "metadata": {},
   "outputs": [],
   "source": [
    "mobility_data = pd.read_csv('general_data/2020_ZA_Region_Mobility_Report.csv')\n",
    "mobility_data = mobility_data[mobility_data['sub_region_1'] == REGION]\n",
    "mobility_data.index = [datetime.strptime(x, '%Y-%m-%d') for x in mobility_data['date']]\n",
    "mobility_data = mobility_data[mobility_data.columns[9:]].astype(float)"
   ]
  },
  {
   "cell_type": "markdown",
   "metadata": {},
   "source": [
    "### Excess fatalities\n",
    "\n",
    "obtained from https://www.samrc.ac.za/reports/report-weekly-deaths-south-africa on January 2nd 2021"
   ]
  },
  {
   "cell_type": "code",
   "execution_count": 5,
   "metadata": {},
   "outputs": [],
   "source": [
    "ef_ct = pd.read_excel('general_data/Estimated deaths 1+ yrs for SA 20 Dec2020 with adj2.xlsx', sheet_name='Weekly excesses', header=2)\n",
    "ef_ct['dates'] = ef_ct['Unnamed: 0']\n",
    "ef_ct.index = ef_ct['dates']"
   ]
  },
  {
   "cell_type": "code",
   "execution_count": 6,
   "metadata": {},
   "outputs": [],
   "source": [
    "cpt_weekly_excess_fatalities = ef_ct['CPT'].iloc[1:-2]"
   ]
  },
  {
   "cell_type": "code",
   "execution_count": 7,
   "metadata": {},
   "outputs": [
    {
     "data": {
      "text/plain": [
       "<matplotlib.axes._subplots.AxesSubplot at 0x25d84f00438>"
      ]
     },
     "execution_count": 7,
     "metadata": {},
     "output_type": "execute_result"
    },
    {
     "data": {
      "image/png": "[encoded data removed]",
      "text/plain": [
       "<Figure size 432x288 with 1 Axes>"
      ]
     },
     "metadata": {
      "needs_background": "light"
     },
     "output_type": "display_data"
    }
   ],
   "source": [
    "cpt_weekly_excess_fatalities.plot()"
   ]
  },
  {
   "cell_type": "markdown",
   "metadata": {},
   "source": [
    "Transform to daily data: "
   ]
  },
  {
   "cell_type": "code",
   "execution_count": 8,
   "metadata": {},
   "outputs": [],
   "source": [
    "daily_fatalities = []\n",
    "days = []\n",
    "for i, x in enumerate(cpt_weekly_excess_fatalities):\n",
    "    for y in range(7):\n",
    "        daily_fatalities.append(x / 7)\n",
    "        days.append(cpt_weekly_excess_fatalities.index[i] - timedelta(days=7 - (y+1)))"
   ]
  },
  {
   "cell_type": "code",
   "execution_count": 9,
   "metadata": {},
   "outputs": [],
   "source": [
    "excess_fatalities = pd.Series(daily_fatalities)\n",
    "excess_fatalities.index = days"
   ]
  },
  {
   "cell_type": "code",
   "execution_count": 10,
   "metadata": {},
   "outputs": [
    {
     "data": {
      "text/plain": [
       "<matplotlib.axes._subplots.AxesSubplot at 0x25d870343c8>"
      ]
     },
     "execution_count": 10,
     "metadata": {},
     "output_type": "execute_result"
    },
    {
     "data": {
      "image/png": "[encoded data removed]",
      "text/plain": [
       "<Figure size 432x288 with 1 Axes>"
      ]
     },
     "metadata": {
      "needs_background": "light"
     },
     "output_type": "display_data"
    }
   ],
   "source": [
    "excess_fatalities.plot()"
   ]
  },
  {
   "cell_type": "markdown",
   "metadata": {},
   "source": [
    "## Combine fatalities and mobility"
   ]
  },
  {
   "cell_type": "code",
   "execution_count": 11,
   "metadata": {},
   "outputs": [
    {
     "data": {
      "text/plain": [
       "2020-04-13    44.6\n",
       "2020-04-14    51.0\n",
       "2020-04-15    51.8\n",
       "2020-04-16    52.2\n",
       "2020-04-17    52.0\n",
       "2020-04-18    50.4\n",
       "2020-04-19    48.4\n",
       "2020-04-20    49.2\n",
       "2020-04-21    50.2\n",
       "2020-04-22    50.6\n",
       "2020-04-23    51.0\n",
       "2020-04-24    52.6\n",
       "2020-04-25    53.4\n",
       "2020-04-26    51.4\n",
       "2020-04-27    46.8\n",
       "2020-04-28    52.6\n",
       "2020-04-29    53.4\n",
       "2020-04-30    55.8\n",
       "dtype: float64"
      ]
     },
     "execution_count": 11,
     "metadata": {},
     "output_type": "execute_result"
    }
   ],
   "source": [
    "first_wave_previous_mobility = (100 + (mobility_data.mean(axis=1))).loc[:excess_fatalities.index[0]].iloc[-INITIAL_DAYS:]\n",
    "first_wave_previous_mobility"
   ]
  },
  {
   "cell_type": "code",
   "execution_count": 12,
   "metadata": {},
   "outputs": [],
   "source": [
    "mobility = (100 + (mobility_data.mean(axis=1))).loc[excess_fatalities.index[0]:excess_fatalities.index[-1]]"
   ]
  },
  {
   "cell_type": "code",
   "execution_count": 13,
   "metadata": {},
   "outputs": [],
   "source": [
    "mobility_and_fatalities = pd.concat([mobility, excess_fatalities], axis=1)\n",
    "mobility_and_fatalities.columns = ['mobility', 'fatalities']"
   ]
  },
  {
   "cell_type": "code",
   "execution_count": 14,
   "metadata": {},
   "outputs": [
    {
     "data": {
      "text/plain": [
       "<matplotlib.axes._subplots.AxesSubplot at 0x25d870fda58>"
      ]
     },
     "execution_count": 14,
     "metadata": {},
     "output_type": "execute_result"
    },
    {
     "data": {
      "image/png": "[encoded data removed]",
      "text/plain": [
       "<Figure size 432x288 with 1 Axes>"
      ]
     },
     "metadata": {
      "needs_background": "light"
     },
     "output_type": "display_data"
    }
   ],
   "source": [
    "mobility_and_fatalities['fatalities'].plot()"
   ]
  },
  {
   "cell_type": "markdown",
   "metadata": {},
   "source": [
    "# Determine the end of the first wave, and start of the second wave\n",
    "The first wave ends when excess fatalities < 0 "
   ]
  },
  {
   "cell_type": "code",
   "execution_count": 15,
   "metadata": {},
   "outputs": [
    {
     "data": {
      "text/plain": [
       "Timestamp('2020-04-30 00:00:00')"
      ]
     },
     "execution_count": 15,
     "metadata": {},
     "output_type": "execute_result"
    }
   ],
   "source": [
    "mobility_and_fatalities.index[0]"
   ]
  },
  {
   "cell_type": "code",
   "execution_count": 16,
   "metadata": {},
   "outputs": [],
   "source": [
    "first_wave_end_date = mobility_and_fatalities.index[0]\n",
    "\n",
    "for x in range(len(mobility_and_fatalities)):\n",
    "    if mobility_and_fatalities['fatalities'].loc[first_wave_end_date] > 0:\n",
    "        first_wave_end_date = first_wave_end_date + timedelta(days=1)\n",
    "    else:\n",
    "        break"
   ]
  },
  {
   "cell_type": "code",
   "execution_count": 17,
   "metadata": {},
   "outputs": [
    {
     "data": {
      "text/plain": [
       "Timestamp('2020-09-10 00:00:00')"
      ]
     },
     "execution_count": 17,
     "metadata": {},
     "output_type": "execute_result"
    }
   ],
   "source": [
    "first_wave_end_date"
   ]
  },
  {
   "cell_type": "markdown",
   "metadata": {},
   "source": [
    "The second wave begins when excess fatalities > 0"
   ]
  },
  {
   "cell_type": "code",
   "execution_count": 18,
   "metadata": {},
   "outputs": [],
   "source": [
    "second_wave_start_date = mobility_and_fatalities.index[-1]\n",
    "\n",
    "for x in range(len(mobility_and_fatalities), 0, -1):\n",
    "    if mobility_and_fatalities['fatalities'].loc[second_wave_start_date] > 0:\n",
    "        second_wave_start_date = second_wave_start_date - timedelta(days=1)\n",
    "    else:\n",
    "        break"
   ]
  },
  {
   "cell_type": "code",
   "execution_count": 19,
   "metadata": {},
   "outputs": [
    {
     "data": {
      "text/plain": [
       "Timestamp('2020-10-21 00:00:00')"
      ]
     },
     "execution_count": 19,
     "metadata": {},
     "output_type": "execute_result"
    }
   ],
   "source": [
    "second_wave_start_date "
   ]
  },
  {
   "cell_type": "markdown",
   "metadata": {},
   "source": [
    "## Split datasets"
   ]
  },
  {
   "cell_type": "code",
   "execution_count": 20,
   "metadata": {},
   "outputs": [],
   "source": [
    "first_wave_data = mobility_and_fatalities.loc[:first_wave_end_date - timedelta(days=1)]"
   ]
  },
  {
   "cell_type": "code",
   "execution_count": 21,
   "metadata": {},
   "outputs": [
    {
     "data": {
      "text/plain": [
       "<matplotlib.axes._subplots.AxesSubplot at 0x25d871071d0>"
      ]
     },
     "execution_count": 21,
     "metadata": {},
     "output_type": "execute_result"
    },
    {
     "data": {
      "image/png": "[encoded data removed]",
      "text/plain": [
       "<Figure size 432x288 with 1 Axes>"
      ]
     },
     "metadata": {
      "needs_background": "light"
     },
     "output_type": "display_data"
    }
   ],
   "source": [
    "first_wave_data.plot()"
   ]
  },
  {
   "cell_type": "code",
   "execution_count": 22,
   "metadata": {},
   "outputs": [],
   "source": [
    "second_wave_data = mobility_and_fatalities.loc[second_wave_start_date + timedelta(days=1):]"
   ]
  },
  {
   "cell_type": "code",
   "execution_count": 23,
   "metadata": {},
   "outputs": [
    {
     "data": {
      "text/plain": [
       "2020-10-04    83.2\n",
       "2020-10-05    77.8\n",
       "2020-10-06    78.6\n",
       "2020-10-07    79.2\n",
       "2020-10-08    79.6\n",
       "2020-10-09    76.0\n",
       "2020-10-10    81.0\n",
       "2020-10-11    80.0\n",
       "2020-10-12    78.2\n",
       "2020-10-13    76.8\n",
       "2020-10-14    80.0\n",
       "2020-10-15    79.0\n",
       "2020-10-16    81.0\n",
       "2020-10-17    82.0\n",
       "2020-10-18    77.6\n",
       "2020-10-19    75.8\n",
       "2020-10-20    76.4\n",
       "2020-10-21    78.6\n",
       "Name: mobility, dtype: float64"
      ]
     },
     "execution_count": 23,
     "metadata": {},
     "output_type": "execute_result"
    }
   ],
   "source": [
    "second_wave_previous_mobility = mobility_and_fatalities.loc[:second_wave_start_date].iloc[-INITIAL_DAYS:]['mobility']\n",
    "second_wave_previous_mobility"
   ]
  },
  {
   "cell_type": "code",
   "execution_count": 24,
   "metadata": {},
   "outputs": [
    {
     "data": {
      "text/plain": [
       "<matplotlib.axes._subplots.AxesSubplot at 0x25d8718c748>"
      ]
     },
     "execution_count": 24,
     "metadata": {},
     "output_type": "execute_result"
    },
    {
     "data": {
      "image/png": "[encoded data removed]",
      "text/plain": [
       "<Figure size 432x288 with 1 Axes>"
      ]
     },
     "metadata": {
      "needs_background": "light"
     },
     "output_type": "display_data"
    }
   ],
   "source": [
    "second_wave_data.plot()"
   ]
  },
  {
   "cell_type": "markdown",
   "metadata": {},
   "source": [
    "### Age groups & health system capacity"
   ]
  },
  {
   "cell_type": "markdown",
   "metadata": {},
   "source": [
    "The age groups are per decile. "
   ]
  },
  {
   "cell_type": "code",
   "execution_count": 25,
   "metadata": {},
   "outputs": [],
   "source": [
    "age_groups = ['age_0_10', 'age_10_20', 'age_20_30', 'age_30_40', 'age_40_50', \n",
    "              'age_50_60', 'age_60_70', 'age_70_80', 'age_80_plus']"
   ]
  },
  {
   "cell_type": "markdown",
   "metadata": {},
   "source": [
    "Health system capacity city "
   ]
  },
  {
   "cell_type": "code",
   "execution_count": 26,
   "metadata": {},
   "outputs": [],
   "source": [
    "beds_cape_town = 0.0009179"
   ]
  },
  {
   "cell_type": "markdown",
   "metadata": {},
   "source": [
    "## Set base parameters"
   ]
  },
  {
   "cell_type": "code",
   "execution_count": 33,
   "metadata": {},
   "outputs": [],
   "source": [
    "parameters = {\n",
    "    # Parameters related to model implementation\n",
    "    \"time\": len(mobility_and_fatalities), \n",
    "    \"number_of_agents\": AGENTS,\n",
    "    \n",
    "    # COVID-19 parameters (9)\n",
    "    \"exposed_days\": 4, # (not changed) average number of days before being able to infect others (sources: NICD + CDC)\n",
    "    \"asymptom_days\": 7, # (used to be 10) average number of days agents are infected but do not have symptoms \n",
    "    \"symptom_days\": 7,# (used to be 10) average number of days agents with mild symptoms are infectious (NICD = 7, Balabdaoui and Mohr = 8, Huang et al=7)\n",
    "    \"critical_days\": 11, # (used to be 8) average number of days agents are in critical condition (Balabdaoui and Mohr = 8, NICD=8-19 (13.5), CDC=10-14 (12))\n",
    "    \"probability_symptomatic\": (1 - 0.6165), # (not changed) determines whether an agent will become asymptomatic or asymptomatic spreader\n",
    "    \"no_hospital_multiplier\": 1.79, # the increase in probability if a critical agent cannot go to the hospital SOURCE: Zhou et al. 2020\n",
    "    \"probability_critical\": {key:value for key, value in zip(age_groups, [0.001, 0.003, 0.012, 0.032, 0.049, 0.102, 0.166, 0.244, 0.273])}, # probability that an agent enters a critical stage of the disease SOURCE: Verity et al.\n",
    "    \"probability_to_die\": {key:value for key, value in zip(age_groups, [0.02090209, 0.032569361, 0.034233668, 0.052638239, 0.097470817, 0.155112718, 0.248512233, 0.306164902, 0.371187541])}, #used to be [0.005, 0.021, 0.053, 0.126, 0.221, 0.303, 0.565, 0.653, 0.765])}, probability to die per age group in critical stage SOURCE: Verity et al.\n",
    "    \n",
    "    # Cape Town specific parameters\n",
    "    \"health_system_capacity\": beds_cape_town,\n",
    "    \"stringency_index\": list(mobility_and_fatalities['mobility']),\n",
    "\n",
    "    # uncertain parameters placeholders\n",
    "    \"total_initial_infections\": 100, # total agents infected in CT\n",
    "    \"probability_transmission\": 0.01610378740708691, # the probability that the virus is transmitted when two agents interact\n",
    "    \"probability_multiplier_asymptomatic\": 0.25,\n",
    "    \n",
    "    # parameters used for comparing to data\n",
    "    'empirical_population': POPULATIONS2011[0],  # specifies the population for the city that is modelled. \n",
    "    'empirical_fatalities': list(mobility_and_fatalities['fatalities']),  # \n",
    "    \n",
    "    # SABCoM parameters not used for the estimation\n",
    "    \"visiting_recurring_contacts_multiplier\": 0, # this disables the compliance feature \n",
    "    \"probability_susceptible\": (4000/1100000) / 246, # probability that the agent will again be susceptible after having recovered\n",
    "    'private_shock_stdev': 0.05,  # the standard deviation for a truncated normal distribution shock that is part of the private signal for the deGroot learning used by the agents. \n",
    "    'weight_private_signal': 1.0,# 0.15,  # the weight of the private signal vis à vis the social signal, used in the deGroot learning process.\n",
    "    'time_4_new_infections': -1, # -1 is never\n",
    "    'new_infections_scenario': 'None', # determines where the initial infections will be if either initial (infections will pop up in the same place as initially), or random (infections pop up in random districts). Alternatively, this parameter is None and then no second re-seeding will occur. \n",
    "    \"informality_dummy\": 1.0, # setting this parameter at 0 will mean the lockdown is equally effective anywhere, alternative = 1\n",
    "    'init_infected_agent': 0, # to calculate R0\n",
    "    \"data_output\": 'csv-light', # 'csv', 'csv-light' or 'network', or 'False'\n",
    "    \"learning_scenario\": None\n",
    "}"
   ]
  },
  {
   "cell_type": "code",
   "execution_count": 35,
   "metadata": {},
   "outputs": [
    {
     "name": "stdout",
     "output_type": "stream",
     "text": [
      "1.4781966001478197e-05\n"
     ]
    }
   ],
   "source": [
    "print(parameters[\"probability_susceptible\"])"
   ]
  },
  {
   "cell_type": "markdown",
   "metadata": {},
   "source": [
    "## Next, we update these parameters and store them in a .json file for both waves\n",
    "\n",
    "#### Wave 1:"
   ]
  },
  {
   "cell_type": "code",
   "execution_count": 28,
   "metadata": {},
   "outputs": [],
   "source": [
    "# update time\n",
    "parameters['time'] = len(first_wave_data) + INITIAL_DAYS\n",
    "# update mobility \n",
    "parameters[\"stringency_index\"] = list(first_wave_previous_mobility) + list(first_wave_data['mobility'])\n",
    "# update fatalities\n",
    "parameters['empirical_fatalities'] = [0.0 for x in range(len(first_wave_previous_mobility))] + list(first_wave_data['fatalities'])"
   ]
  },
  {
   "cell_type": "code",
   "execution_count": 29,
   "metadata": {},
   "outputs": [],
   "source": [
    "with open('{}/first_waveparameters.json'.format(CITY), 'w') as outfile:\n",
    "    json.dump(parameters, outfile)"
   ]
  },
  {
   "cell_type": "markdown",
   "metadata": {},
   "source": [
    "### Wave 2:"
   ]
  },
  {
   "cell_type": "code",
   "execution_count": 30,
   "metadata": {},
   "outputs": [],
   "source": [
    "# update time\n",
    "parameters['time'] = len(second_wave_data) + INITIAL_DAYS\n",
    "# update mobility \n",
    "parameters[\"stringency_index\"] = list(second_wave_previous_mobility) + list(second_wave_data['mobility'])\n",
    "# update fatalities\n",
    "parameters['empirical_fatalities'] = [0.0 for x in range(len(second_wave_previous_mobility))] + list(second_wave_data['fatalities'])"
   ]
  },
  {
   "cell_type": "code",
   "execution_count": 31,
   "metadata": {},
   "outputs": [],
   "source": [
    "with open('{}/second_waveparameters.json'.format(CITY), 'w') as outfile:\n",
    "    json.dump(parameters, outfile)"
   ]
  },
  {
   "cell_type": "markdown",
   "metadata": {},
   "source": [
    "# Smooth "
   ]
  },
  {
   "cell_type": "code",
   "execution_count": 3,
   "metadata": {},
   "outputs": [],
   "source": [
    "data = pd.read_csv('output_data/second_strain/seed0quantities_state_time.csv')"
   ]
  },
  {
   "cell_type": "code",
   "execution_count": 5,
   "metadata": {},
   "outputs": [],
   "source": [
    "infections = data['i1'] + data['i2']"
   ]
  },
  {
   "cell_type": "code",
   "execution_count": 6,
   "metadata": {
    "scrolled": true
   },
   "outputs": [
    {
     "data": {
      "text/plain": [
       "<matplotlib.axes._subplots.AxesSubplot at 0x23650a88128>"
      ]
     },
     "execution_count": 6,
     "metadata": {},
     "output_type": "execute_result"
    },
    {
     "data": {
      "image/png": "[encoded data removed]",
      "text/plain": [
       "<Figure size 432x288 with 1 Axes>"
      ]
     },
     "metadata": {
      "needs_background": "light"
     },
     "output_type": "display_data"
    }
   ],
   "source": [
    "infections.plot()"
   ]
  },
  {
   "cell_type": "code",
   "execution_count": null,
   "metadata": {},
   "outputs": [],
   "source": [
    "sim_dead_curve.diff().ewm(span=10).mean()"
   ]
  }
 ],
 "metadata": {
  "kernelspec": {
   "display_name": "Python 3",
   "language": "python",
   "name": "python3"
  },
  "language_info": {
   "codemirror_mode": {
    "name": "ipython",
    "version": 3
   },
   "file_extension": ".py",
   "mimetype": "text/x-python",
   "name": "python",
   "nbconvert_exporter": "python",
   "pygments_lexer": "ipython3",
   "version": "3.6.8"
  }
 },
 "nbformat": 4,
 "nbformat_minor": 2
}
