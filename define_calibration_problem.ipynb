{
 "cells": [
  {
   "cell_type": "code",
   "execution_count": 1,
   "metadata": {},
   "outputs": [],
   "source": [
    "import json"
   ]
  },
  {
   "cell_type": "markdown",
   "metadata": {},
   "source": [
    "# Define the boundaries for parameter estimation\n",
    "\n",
    "## 1 For uncertain parameters in Cape Town"
   ]
  },
  {
   "cell_type": "code",
   "execution_count": 6,
   "metadata": {},
   "outputs": [],
   "source": [
    "ct_problem = {\n",
    "    'num_vars': 3,\n",
    "    'names': [\"probability_transmission\", #\"total_initial_infections\", \n",
    "              'private_shock_stdev', 'weight_private_signal'],\n",
    "    'bounds': [[0.02, 0.04], #[1000, 3500], \n",
    "               [0.0001, 0.01], [0.05, 0.7]],\n",
    "    'initial': [0.03, 1500.0, \n",
    "                0.001, 0.1, 0.8],\n",
    "    'integer': [False, #True, \n",
    "                False, False]\n",
    "}"
   ]
  },
  {
   "cell_type": "code",
   "execution_count": 7,
   "metadata": {},
   "outputs": [],
   "source": [
    "with open('estimation_problems/ct_calibration_problem.json', 'w') as outfile:\n",
    "    json.dump(ct_problem, outfile)"
   ]
  },
  {
   "cell_type": "markdown",
   "metadata": {},
   "source": [
    "## 2 For uncertain parameters in Johannesburg\n",
    "\n",
    "For validation, we check if we can replicate the excess fatality curve for Johannesburg using the parameters estimated for Cape Town with the exception of initial infections, since there were more initial infections in Cape Town. "
   ]
  },
  {
   "cell_type": "code",
   "execution_count": 7,
   "metadata": {},
   "outputs": [],
   "source": [
    "jhn_problem = {\n",
    "    'num_vars': 1,\n",
    "    'names': [\"total_initial_infections\"],\n",
    "    'bounds': [[100, 5000]],\n",
    "    'initial': [1500.0],\n",
    "    'integer': [True]\n",
    "}"
   ]
  },
  {
   "cell_type": "code",
   "execution_count": 12,
   "metadata": {},
   "outputs": [],
   "source": [
    "with open('estimation_problems/jhn_calibration_problem.json', 'w') as outfile:\n",
    "    json.dump(jhn_problem, outfile)"
   ]
  },
  {
   "cell_type": "markdown",
   "metadata": {},
   "source": [
    "## 3 For the estimation of parameters in the third experiment\n",
    "In this experiment the strenght of the private signal is varied, to check how it affects parameter estimates. "
   ]
  },
  {
   "cell_type": "code",
   "execution_count": 9,
   "metadata": {},
   "outputs": [],
   "source": [
    "experiment_3_problem = {\n",
    "    'num_vars': 1,\n",
    "    'names': [\"probability_transmission\"],\n",
    "    'bounds': [[0.02, 0.04]],\n",
    "    'initial': [0.03],\n",
    "    'integer': [False]\n",
    "}"
   ]
  },
  {
   "cell_type": "code",
   "execution_count": 11,
   "metadata": {},
   "outputs": [],
   "source": [
    "with open('estimation_problems/ct_calibration_problem_no_learning.json', 'w') as outfile:\n",
    "    json.dump(experiment_3_problem, outfile)"
   ]
  },
  {
   "cell_type": "markdown",
   "metadata": {},
   "source": [
    "## 4 find optimal lockdown "
   ]
  },
  {
   "cell_type": "code",
   "execution_count": 2,
   "metadata": {},
   "outputs": [],
   "source": [
    "optimal_lockdown_problem = {\n",
    "    'num_vars': 1,\n",
    "    'names': [\"lockdown_days\"],\n",
    "    'bounds': [[0, 350]],\n",
    "    'initial': [30],\n",
    "    'integer': [False]\n",
    "}"
   ]
  },
  {
   "cell_type": "code",
   "execution_count": 4,
   "metadata": {},
   "outputs": [],
   "source": [
    "with open('estimation_problems/optimal_lockdown_problem.json', 'w') as outfile:\n",
    "    json.dump(optimal_lockdown_problem, outfile)"
   ]
  }
 ],
 "metadata": {
  "kernelspec": {
   "display_name": "Python 3",
   "language": "python",
   "name": "python3"
  },
  "language_info": {
   "codemirror_mode": {
    "name": "ipython",
    "version": 3
   },
   "file_extension": ".py",
   "mimetype": "text/x-python",
   "name": "python",
   "nbconvert_exporter": "python",
   "pygments_lexer": "ipython3",
   "version": "3.6.8"
  }
 },
 "nbformat": 4,
 "nbformat_minor": 2
}
